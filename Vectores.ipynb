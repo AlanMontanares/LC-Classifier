{
  "cells": [
    {
      "cell_type": "markdown",
      "metadata": {
        "id": "ofs-dS_vNtcg"
      },
      "source": [
        "#Vector de caracteristicas"
      ]
    },
    {
      "cell_type": "markdown",
      "metadata": {
        "id": "o9uzctueljFK"
      },
      "source": [
        "## Dependencias"
      ]
    },
    {
      "cell_type": "code",
      "execution_count": null,
      "metadata": {
        "colab": {
          "base_uri": "https://localhost:8080/"
        },
        "id": "bzPxhXc-ljFM",
        "outputId": "5e29ea01-3fa5-4a44-ee4e-51d23db26025"
      },
      "outputs": [
        {
          "name": "stdout",
          "output_type": "stream",
          "text": [
            "Looking in indexes: https://pypi.org/simple, https://us-python.pkg.dev/colab-wheels/public/simple/\n",
            "Requirement already satisfied: Cython in /usr/local/lib/python3.7/dist-packages (0.29.32)\n",
            "Looking in indexes: https://pypi.org/simple, https://us-python.pkg.dev/colab-wheels/public/simple/\n",
            "Obtaining turbofats from git+https://****@github.com/alercebroker/turbo-fats#egg=turbofats\n",
            "  Cloning https://****@github.com/alercebroker/turbo-fats to ./src/turbofats\n",
            "  Running command git clone -q 'https://****@github.com/alercebroker/turbo-fats' /content/src/turbofats\n",
            "Requirement already satisfied: numpy in /usr/local/lib/python3.7/dist-packages (from turbofats) (1.21.6)\n",
            "Requirement already satisfied: numba in /usr/local/lib/python3.7/dist-packages (from turbofats) (0.56.3)\n",
            "Requirement already satisfied: scipy in /usr/local/lib/python3.7/dist-packages (from turbofats) (1.7.3)\n",
            "Requirement already satisfied: statsmodels in /usr/local/lib/python3.7/dist-packages (from turbofats) (0.12.2)\n",
            "Requirement already satisfied: importlib-metadata in /usr/local/lib/python3.7/dist-packages (from numba->turbofats) (4.13.0)\n",
            "Requirement already satisfied: llvmlite<0.40,>=0.39.0dev0 in /usr/local/lib/python3.7/dist-packages (from numba->turbofats) (0.39.1)\n",
            "Requirement already satisfied: setuptools in /usr/local/lib/python3.7/dist-packages (from numba->turbofats) (57.4.0)\n",
            "Requirement already satisfied: zipp>=0.5 in /usr/local/lib/python3.7/dist-packages (from importlib-metadata->numba->turbofats) (3.9.0)\n",
            "Requirement already satisfied: typing-extensions>=3.6.4 in /usr/local/lib/python3.7/dist-packages (from importlib-metadata->numba->turbofats) (4.1.1)\n",
            "Requirement already satisfied: pandas>=0.21 in /usr/local/lib/python3.7/dist-packages (from statsmodels->turbofats) (1.3.5)\n",
            "Requirement already satisfied: patsy>=0.5 in /usr/local/lib/python3.7/dist-packages (from statsmodels->turbofats) (0.5.3)\n",
            "Requirement already satisfied: python-dateutil>=2.7.3 in /usr/local/lib/python3.7/dist-packages (from pandas>=0.21->statsmodels->turbofats) (2.8.2)\n",
            "Requirement already satisfied: pytz>=2017.3 in /usr/local/lib/python3.7/dist-packages (from pandas>=0.21->statsmodels->turbofats) (2022.5)\n",
            "Requirement already satisfied: six in /usr/local/lib/python3.7/dist-packages (from patsy>=0.5->statsmodels->turbofats) (1.15.0)\n",
            "Installing collected packages: turbofats\n",
            "  Running setup.py develop for turbofats\n",
            "Successfully installed turbofats-2.0.0\n",
            "Looking in indexes: https://pypi.org/simple, https://us-python.pkg.dev/colab-wheels/public/simple/\n",
            "Obtaining mhps from git+https://****@github.com/alercebroker/mhps#egg=mhps\n",
            "  Cloning https://****@github.com/alercebroker/mhps to ./src/mhps\n",
            "  Running command git clone -q 'https://****@github.com/alercebroker/mhps' /content/src/mhps\n",
            "Requirement already satisfied: numpy>=1.17.4 in /usr/local/lib/python3.7/dist-packages (from mhps) (1.21.6)\n",
            "Requirement already satisfied: Cython>=0.29.12 in /usr/local/lib/python3.7/dist-packages (from mhps) (0.29.32)\n",
            "Installing collected packages: mhps\n",
            "  Running setup.py develop for mhps\n",
            "Successfully installed mhps-0.1.1\n",
            "Looking in indexes: https://pypi.org/simple, https://us-python.pkg.dev/colab-wheels/public/simple/\n",
            "Obtaining P4J from git+https://****@github.com/alercebroker/P4J#egg=P4J\n",
            "  Cloning https://****@github.com/alercebroker/P4J to ./src/p4j\n",
            "  Running command git clone -q 'https://****@github.com/alercebroker/P4J' /content/src/p4j\n",
            "Requirement already satisfied: numpy>=1.9.0 in /usr/local/lib/python3.7/dist-packages (from P4J) (1.21.6)\n",
            "Installing collected packages: P4J\n",
            "  Running setup.py develop for P4J\n",
            "Successfully installed P4J-1.1.0\n",
            "Looking in indexes: https://pypi.org/simple, https://us-python.pkg.dev/colab-wheels/public/simple/\n",
            "Requirement already satisfied: pyarrow in /usr/local/lib/python3.7/dist-packages (6.0.1)\n",
            "Requirement already satisfied: numpy>=1.16.6 in /usr/local/lib/python3.7/dist-packages (from pyarrow) (1.21.6)\n",
            "Looking in indexes: https://pypi.org/simple, https://us-python.pkg.dev/colab-wheels/public/simple/\n",
            "Obtaining lc_classifier from git+https://****@github.com/alercebroker/lc_classifier#egg=lc_classifier\n",
            "  Cloning https://****@github.com/alercebroker/lc_classifier to ./src/lc-classifier\n",
            "  Running command git clone -q 'https://****@github.com/alercebroker/lc_classifier' /content/src/lc-classifier\n",
            "Requirement already satisfied: astropy>=4.0 in /usr/local/lib/python3.7/dist-packages (from lc_classifier) (4.3.1)\n",
            "Requirement already satisfied: click>=7.1 in /usr/local/lib/python3.7/dist-packages (from lc_classifier) (7.1.2)\n",
            "Requirement already satisfied: Cython>=0.29 in /usr/local/lib/python3.7/dist-packages (from lc_classifier) (0.29.32)\n",
            "Collecting GPy>=1.9\n",
            "  Downloading GPy-1.10.0.tar.gz (959 kB)\n",
            "\u001b[K     |████████████████████████████████| 959 kB 44.4 MB/s \n",
            "\u001b[?25hRequirement already satisfied: Jinja2>=2.11 in /usr/local/lib/python3.7/dist-packages (from lc_classifier) (2.11.3)\n",
            "Requirement already satisfied: imbalanced-learn>=0.7 in /usr/local/lib/python3.7/dist-packages (from lc_classifier) (0.8.1)\n",
            "Collecting matplotlib>=3.3\n",
            "  Downloading matplotlib-3.5.3-cp37-cp37m-manylinux_2_5_x86_64.manylinux1_x86_64.whl (11.2 MB)\n",
            "\u001b[K     |████████████████████████████████| 11.2 MB 66.5 MB/s \n",
            "\u001b[?25hRequirement already satisfied: numba>=0.51 in /usr/local/lib/python3.7/dist-packages (from lc_classifier) (0.56.3)\n",
            "Requirement already satisfied: numpy>=1.16 in /usr/local/lib/python3.7/dist-packages (from lc_classifier) (1.21.6)\n",
            "Collecting requests>=2.24\n",
            "  Downloading requests-2.28.1-py3-none-any.whl (62 kB)\n",
            "\u001b[K     |████████████████████████████████| 62 kB 1.9 MB/s \n",
            "\u001b[?25hRequirement already satisfied: scipy>=1.4 in /usr/local/lib/python3.7/dist-packages (from lc_classifier) (1.7.3)\n",
            "Requirement already satisfied: setuptools>=49.6 in /usr/local/lib/python3.7/dist-packages (from lc_classifier) (57.4.0)\n",
            "Requirement already satisfied: scikit-learn>=0.23 in /usr/local/lib/python3.7/dist-packages (from lc_classifier) (1.0.2)\n",
            "Requirement already satisfied: tqdm>=4.48 in /usr/local/lib/python3.7/dist-packages (from lc_classifier) (4.64.1)\n",
            "Requirement already satisfied: tensorflow>=2.3 in /usr/local/lib/python3.7/dist-packages (from lc_classifier) (2.9.2)\n",
            "Requirement already satisfied: pandas>=1.1 in /usr/local/lib/python3.7/dist-packages (from lc_classifier) (1.3.5)\n",
            "Collecting wget>=3.2\n",
            "  Downloading wget-3.2.zip (10 kB)\n",
            "Collecting celerite2>=0.1\n",
            "  Downloading celerite2-0.2.1-cp37-cp37m-manylinux_2_17_x86_64.manylinux2014_x86_64.whl (922 kB)\n",
            "\u001b[K     |████████████████████████████████| 922 kB 63.6 MB/s \n",
            "\u001b[?25hCollecting pickle5\n",
            "  Downloading pickle5-0.0.12-cp37-cp37m-manylinux_2_5_x86_64.manylinux1_x86_64.whl (256 kB)\n",
            "\u001b[K     |████████████████████████████████| 256 kB 94.6 MB/s \n",
            "\u001b[?25hRequirement already satisfied: importlib-metadata in /usr/local/lib/python3.7/dist-packages (from astropy>=4.0->lc_classifier) (4.13.0)\n",
            "Requirement already satisfied: pyerfa>=1.7.3 in /usr/local/lib/python3.7/dist-packages (from astropy>=4.0->lc_classifier) (2.0.0.1)\n",
            "Requirement already satisfied: six in /usr/local/lib/python3.7/dist-packages (from GPy>=1.9->lc_classifier) (1.15.0)\n",
            "Collecting paramz>=0.9.0\n",
            "  Downloading paramz-0.9.5.tar.gz (71 kB)\n",
            "\u001b[K     |████████████████████████████████| 71 kB 12.2 MB/s \n",
            "\u001b[?25hRequirement already satisfied: joblib>=0.11 in /usr/local/lib/python3.7/dist-packages (from imbalanced-learn>=0.7->lc_classifier) (1.2.0)\n",
            "Requirement already satisfied: MarkupSafe>=0.23 in /usr/local/lib/python3.7/dist-packages (from Jinja2>=2.11->lc_classifier) (2.0.1)\n",
            "Requirement already satisfied: kiwisolver>=1.0.1 in /usr/local/lib/python3.7/dist-packages (from matplotlib>=3.3->lc_classifier) (1.4.4)\n",
            "Requirement already satisfied: pyparsing>=2.2.1 in /usr/local/lib/python3.7/dist-packages (from matplotlib>=3.3->lc_classifier) (3.0.9)\n",
            "Requirement already satisfied: pillow>=6.2.0 in /usr/local/lib/python3.7/dist-packages (from matplotlib>=3.3->lc_classifier) (7.1.2)\n",
            "Collecting fonttools>=4.22.0\n",
            "  Downloading fonttools-4.38.0-py3-none-any.whl (965 kB)\n",
            "\u001b[K     |████████████████████████████████| 965 kB 65.7 MB/s \n",
            "\u001b[?25hRequirement already satisfied: cycler>=0.10 in /usr/local/lib/python3.7/dist-packages (from matplotlib>=3.3->lc_classifier) (0.11.0)\n",
            "Requirement already satisfied: packaging>=20.0 in /usr/local/lib/python3.7/dist-packages (from matplotlib>=3.3->lc_classifier) (21.3)\n",
            "Requirement already satisfied: python-dateutil>=2.7 in /usr/local/lib/python3.7/dist-packages (from matplotlib>=3.3->lc_classifier) (2.8.2)\n",
            "Requirement already satisfied: typing-extensions in /usr/local/lib/python3.7/dist-packages (from kiwisolver>=1.0.1->matplotlib>=3.3->lc_classifier) (4.1.1)\n",
            "Requirement already satisfied: llvmlite<0.40,>=0.39.0dev0 in /usr/local/lib/python3.7/dist-packages (from numba>=0.51->lc_classifier) (0.39.1)\n",
            "Requirement already satisfied: pytz>=2017.3 in /usr/local/lib/python3.7/dist-packages (from pandas>=1.1->lc_classifier) (2022.5)\n",
            "Requirement already satisfied: decorator>=4.0.10 in /usr/local/lib/python3.7/dist-packages (from paramz>=0.9.0->GPy>=1.9->lc_classifier) (4.4.2)\n",
            "Requirement already satisfied: urllib3<1.27,>=1.21.1 in /usr/local/lib/python3.7/dist-packages (from requests>=2.24->lc_classifier) (1.24.3)\n",
            "Requirement already satisfied: charset-normalizer<3,>=2 in /usr/local/lib/python3.7/dist-packages (from requests>=2.24->lc_classifier) (2.1.1)\n",
            "Requirement already satisfied: certifi>=2017.4.17 in /usr/local/lib/python3.7/dist-packages (from requests>=2.24->lc_classifier) (2022.9.24)\n",
            "Requirement already satisfied: idna<4,>=2.5 in /usr/local/lib/python3.7/dist-packages (from requests>=2.24->lc_classifier) (2.10)\n",
            "Requirement already satisfied: threadpoolctl>=2.0.0 in /usr/local/lib/python3.7/dist-packages (from scikit-learn>=0.23->lc_classifier) (3.1.0)\n",
            "Requirement already satisfied: libclang>=13.0.0 in /usr/local/lib/python3.7/dist-packages (from tensorflow>=2.3->lc_classifier) (14.0.6)\n",
            "Requirement already satisfied: grpcio<2.0,>=1.24.3 in /usr/local/lib/python3.7/dist-packages (from tensorflow>=2.3->lc_classifier) (1.50.0)\n",
            "Requirement already satisfied: google-pasta>=0.1.1 in /usr/local/lib/python3.7/dist-packages (from tensorflow>=2.3->lc_classifier) (0.2.0)\n",
            "Requirement already satisfied: tensorflow-io-gcs-filesystem>=0.23.1 in /usr/local/lib/python3.7/dist-packages (from tensorflow>=2.3->lc_classifier) (0.27.0)\n",
            "Requirement already satisfied: tensorflow-estimator<2.10.0,>=2.9.0rc0 in /usr/local/lib/python3.7/dist-packages (from tensorflow>=2.3->lc_classifier) (2.9.0)\n",
            "Requirement already satisfied: wrapt>=1.11.0 in /usr/local/lib/python3.7/dist-packages (from tensorflow>=2.3->lc_classifier) (1.14.1)\n",
            "Requirement already satisfied: tensorboard<2.10,>=2.9 in /usr/local/lib/python3.7/dist-packages (from tensorflow>=2.3->lc_classifier) (2.9.1)\n",
            "Requirement already satisfied: opt-einsum>=2.3.2 in /usr/local/lib/python3.7/dist-packages (from tensorflow>=2.3->lc_classifier) (3.3.0)\n",
            "Requirement already satisfied: absl-py>=1.0.0 in /usr/local/lib/python3.7/dist-packages (from tensorflow>=2.3->lc_classifier) (1.3.0)\n",
            "Requirement already satisfied: termcolor>=1.1.0 in /usr/local/lib/python3.7/dist-packages (from tensorflow>=2.3->lc_classifier) (2.0.1)\n",
            "Requirement already satisfied: gast<=0.4.0,>=0.2.1 in /usr/local/lib/python3.7/dist-packages (from tensorflow>=2.3->lc_classifier) (0.4.0)\n",
            "Requirement already satisfied: flatbuffers<2,>=1.12 in /usr/local/lib/python3.7/dist-packages (from tensorflow>=2.3->lc_classifier) (1.12)\n",
            "Requirement already satisfied: protobuf<3.20,>=3.9.2 in /usr/local/lib/python3.7/dist-packages (from tensorflow>=2.3->lc_classifier) (3.17.3)\n",
            "Requirement already satisfied: astunparse>=1.6.0 in /usr/local/lib/python3.7/dist-packages (from tensorflow>=2.3->lc_classifier) (1.6.3)\n",
            "Requirement already satisfied: keras-preprocessing>=1.1.1 in /usr/local/lib/python3.7/dist-packages (from tensorflow>=2.3->lc_classifier) (1.1.2)\n",
            "Requirement already satisfied: h5py>=2.9.0 in /usr/local/lib/python3.7/dist-packages (from tensorflow>=2.3->lc_classifier) (3.1.0)\n",
            "Requirement already satisfied: keras<2.10.0,>=2.9.0rc0 in /usr/local/lib/python3.7/dist-packages (from tensorflow>=2.3->lc_classifier) (2.9.0)\n",
            "Requirement already satisfied: wheel<1.0,>=0.23.0 in /usr/local/lib/python3.7/dist-packages (from astunparse>=1.6.0->tensorflow>=2.3->lc_classifier) (0.37.1)\n",
            "Requirement already satisfied: cached-property in /usr/local/lib/python3.7/dist-packages (from h5py>=2.9.0->tensorflow>=2.3->lc_classifier) (1.5.2)\n",
            "Requirement already satisfied: google-auth<3,>=1.6.3 in /usr/local/lib/python3.7/dist-packages (from tensorboard<2.10,>=2.9->tensorflow>=2.3->lc_classifier) (1.35.0)\n",
            "Requirement already satisfied: google-auth-oauthlib<0.5,>=0.4.1 in /usr/local/lib/python3.7/dist-packages (from tensorboard<2.10,>=2.9->tensorflow>=2.3->lc_classifier) (0.4.6)\n",
            "Requirement already satisfied: tensorboard-data-server<0.7.0,>=0.6.0 in /usr/local/lib/python3.7/dist-packages (from tensorboard<2.10,>=2.9->tensorflow>=2.3->lc_classifier) (0.6.1)\n",
            "Requirement already satisfied: werkzeug>=1.0.1 in /usr/local/lib/python3.7/dist-packages (from tensorboard<2.10,>=2.9->tensorflow>=2.3->lc_classifier) (1.0.1)\n",
            "Requirement already satisfied: markdown>=2.6.8 in /usr/local/lib/python3.7/dist-packages (from tensorboard<2.10,>=2.9->tensorflow>=2.3->lc_classifier) (3.4.1)\n",
            "Requirement already satisfied: tensorboard-plugin-wit>=1.6.0 in /usr/local/lib/python3.7/dist-packages (from tensorboard<2.10,>=2.9->tensorflow>=2.3->lc_classifier) (1.8.1)\n",
            "Requirement already satisfied: pyasn1-modules>=0.2.1 in /usr/local/lib/python3.7/dist-packages (from google-auth<3,>=1.6.3->tensorboard<2.10,>=2.9->tensorflow>=2.3->lc_classifier) (0.2.8)\n",
            "Requirement already satisfied: rsa<5,>=3.1.4 in /usr/local/lib/python3.7/dist-packages (from google-auth<3,>=1.6.3->tensorboard<2.10,>=2.9->tensorflow>=2.3->lc_classifier) (4.9)\n",
            "Requirement already satisfied: cachetools<5.0,>=2.0.0 in /usr/local/lib/python3.7/dist-packages (from google-auth<3,>=1.6.3->tensorboard<2.10,>=2.9->tensorflow>=2.3->lc_classifier) (4.2.4)\n",
            "Requirement already satisfied: requests-oauthlib>=0.7.0 in /usr/local/lib/python3.7/dist-packages (from google-auth-oauthlib<0.5,>=0.4.1->tensorboard<2.10,>=2.9->tensorflow>=2.3->lc_classifier) (1.3.1)\n",
            "Requirement already satisfied: zipp>=0.5 in /usr/local/lib/python3.7/dist-packages (from importlib-metadata->astropy>=4.0->lc_classifier) (3.9.0)\n",
            "Requirement already satisfied: pyasn1<0.5.0,>=0.4.6 in /usr/local/lib/python3.7/dist-packages (from pyasn1-modules>=0.2.1->google-auth<3,>=1.6.3->tensorboard<2.10,>=2.9->tensorflow>=2.3->lc_classifier) (0.4.8)\n",
            "Requirement already satisfied: oauthlib>=3.0.0 in /usr/local/lib/python3.7/dist-packages (from requests-oauthlib>=0.7.0->google-auth-oauthlib<0.5,>=0.4.1->tensorboard<2.10,>=2.9->tensorflow>=2.3->lc_classifier) (3.2.2)\n",
            "Building wheels for collected packages: GPy, paramz, wget\n",
            "  Building wheel for GPy (setup.py) ... \u001b[?25l\u001b[?25hdone\n",
            "  Created wheel for GPy: filename=GPy-1.10.0-cp37-cp37m-linux_x86_64.whl size=2565109 sha256=46fb2b7e310bb2229fb30b472766e23c73ba5c575234fcd0dd8c67cb293e62e2\n",
            "  Stored in directory: /root/.cache/pip/wheels/f7/18/28/dd1ce0192a81b71a3b086fd952511d088b21e8359ea496860a\n",
            "  Building wheel for paramz (setup.py) ... \u001b[?25l\u001b[?25hdone\n",
            "  Created wheel for paramz: filename=paramz-0.9.5-py3-none-any.whl size=102566 sha256=cacc2299b716d02c475d7edd8d0e7146a287c0d353605839938bd9864e3e0dd6\n",
            "  Stored in directory: /root/.cache/pip/wheels/c8/95/f5/ce28482da28162e6028c4b3a32c41d147395825b3cd62bc810\n",
            "  Building wheel for wget (setup.py) ... \u001b[?25l\u001b[?25hdone\n",
            "  Created wheel for wget: filename=wget-3.2-py3-none-any.whl size=9675 sha256=ddb834dba90fd7d1ab50ee73d13073e6e189efd3b198dff8252f3b73f164f6db\n",
            "  Stored in directory: /root/.cache/pip/wheels/a1/b6/7c/0e63e34eb06634181c63adacca38b79ff8f35c37e3c13e3c02\n",
            "Successfully built GPy paramz wget\n",
            "Installing collected packages: requests, paramz, fonttools, wget, pickle5, matplotlib, GPy, celerite2, lc-classifier\n",
            "  Attempting uninstall: requests\n",
            "    Found existing installation: requests 2.23.0\n",
            "    Uninstalling requests-2.23.0:\n",
            "      Successfully uninstalled requests-2.23.0\n",
            "  Attempting uninstall: matplotlib\n",
            "    Found existing installation: matplotlib 3.2.2\n",
            "    Uninstalling matplotlib-3.2.2:\n",
            "      Successfully uninstalled matplotlib-3.2.2\n",
            "  Running setup.py develop for lc-classifier\n",
            "Successfully installed GPy-1.10.0 celerite2-0.2.1 fonttools-4.38.0 lc-classifier-2.0.1 matplotlib-3.5.3 paramz-0.9.5 pickle5-0.0.12 requests-2.28.1 wget-3.2\n"
          ]
        }
      ],
      "source": [
        "# pyarrow might be needed to read the data\n",
        "!python -m pip install Cython\n",
        "!python -m pip install -e git+https://git@github.com/alercebroker/turbo-fats#egg=turbofats\n",
        "!python -m pip install -e git+https://git@github.com/alercebroker/mhps#egg=mhps\n",
        "!python -m pip install -e git+https://git@github.com/alercebroker/P4J#egg=P4J\n",
        "!python -m pip install pyarrow\n",
        "!python -m pip install -e git+https://git@github.com/alercebroker/lc_classifier#egg=lc_classifier\n",
        "exit()"
      ]
    },
    {
      "cell_type": "markdown",
      "metadata": {
        "id": "K3PjT4rEljFN"
      },
      "source": [
        "## Librerias para crear dataframe de curvas de luz\n"
      ]
    },
    {
      "cell_type": "code",
      "execution_count": null,
      "metadata": {
        "id": "2wp0HU81ljFN"
      },
      "outputs": [],
      "source": [
        "import pandas as pd\n",
        "import numpy as np\n",
        "import matplotlib.pyplot as plt\n",
        "import os\n",
        "\n",
        "from lc_classifier.utils import LightcurveBuilder"
      ]
    },
    {
      "cell_type": "markdown",
      "metadata": {
        "id": "ghEur42YAABd"
      },
      "source": [
        "##Carga de datos en Drive"
      ]
    },
    {
      "cell_type": "code",
      "execution_count": null,
      "metadata": {
        "colab": {
          "base_uri": "https://localhost:8080/"
        },
        "id": "u8LQbmspADTb",
        "outputId": "d124f70a-d08a-4d44-9e4f-fa86e78188df"
      },
      "outputs": [
        {
          "name": "stdout",
          "output_type": "stream",
          "text": [
            "Mounted at /content/drive\n"
          ]
        }
      ],
      "source": [
        "from google.colab import drive\n",
        "drive.mount('/content/drive')"
      ]
    },
    {
      "cell_type": "markdown",
      "metadata": {
        "id": "lVRQOwD4ljFQ"
      },
      "source": [
        "## Librerias para encontrar el vector de caracteristicas"
      ]
    },
    {
      "cell_type": "code",
      "execution_count": null,
      "metadata": {
        "id": "j2bduZz2ljFQ"
      },
      "outputs": [],
      "source": [
        "from lc_classifier.features import MHPSExtractor, PeriodExtractor, GPDRWExtractor\n",
        "from lc_classifier.features import FoldedKimExtractor\n",
        "from lc_classifier.features import HarmonicsExtractor, IQRExtractor\n",
        "from lc_classifier.features import PowerRateExtractor\n",
        "from lc_classifier.features import TurboFatsFeatureExtractor\n",
        "\n",
        "from lc_classifier.features import FeatureExtractorComposer"
      ]
    },
    {
      "cell_type": "code",
      "execution_count": null,
      "metadata": {
        "id": "80bjCJATljFQ"
      },
      "outputs": [],
      "source": [
        "bands = ['r','b']\n",
        "feature_extractor = FeatureExtractorComposer(\n",
        "    [\n",
        "        MHPSExtractor(bands),\n",
        "        PeriodExtractor(bands),\n",
        "        GPDRWExtractor(bands),\n",
        "        FoldedKimExtractor(bands),\n",
        "        HarmonicsExtractor(bands),\n",
        "        IQRExtractor(bands),\n",
        "        PowerRateExtractor(bands),\n",
        "        TurboFatsFeatureExtractor(bands)\n",
        "    ]\n",
        ")"
      ]
    },
    {
      "cell_type": "markdown",
      "metadata": {
        "id": "VX6zpdUuljFS"
      },
      "source": [
        "## Calculamos el vector de caracteristicas para varias curvas"
      ]
    },
    {
      "cell_type": "code",
      "execution_count": null,
      "metadata": {
        "id": "5vo3DKdxN44V"
      },
      "outputs": [],
      "source": [
        "ruta=\"/content/drive/MyDrive/Base_de_datos/RRL/RRab\"  #Seleccionamos la carpeta donde estan los archivos .time\n",
        "lista=[file for file in os.listdir(ruta)]\n",
        "\n",
        "lightcurves_RRab_4000_7000 = []\n",
        "for file in lista:\n",
        "    data = pd.read_csv(f\"/content/drive/MyDrive/Base_de_datos/RRL/RRab/{file}\", delimiter=\"\\t\",header=None)\n",
        "    data_2 =data.drop([0,1,2,3],axis=0)\n",
        "    data_3 =data_2[0].str.split(expand=True)\n",
        "    data_3.columns = [\"data\", \"MagR\", \"ErMagR\",\"MagB\",\"ErMagB\"]\n",
        "    lightcurve_builder = LightcurveBuilder(f'{file}')\n",
        "    m=1\n",
        "    for band in bands:\n",
        "        n_obs_band = len(data_3[\"data\"].to_numpy())\n",
        "        time = data_3[\"data\"].to_numpy().astype(np.float)\n",
        "        magnitude = data_3[data_3.columns[m]].to_numpy().astype(np.float)\n",
        "        error =data_3[data_3.columns[m]].to_numpy().astype(np.float)\n",
        "        lightcurve_builder.add_band(\n",
        "            band,\n",
        "            time,\n",
        "            magnitude,\n",
        "            error)\n",
        "        m=3\n",
        "\n",
        "    lightcurve = lightcurve_builder.build_dataframe()\n",
        "    lightcurves_RRab.append(lightcurve)\n",
        "\n",
        "lightcurves_RRab= pd.concat(lightcurves_RRab)"
      ]
    },
    {
      "cell_type": "code",
      "execution_count": null,
      "metadata": {
        "colab": {
          "background_save": true,
          "base_uri": "https://localhost:8080/"
        },
        "id": "cTI2sCw5OKR0",
        "outputId": "40dc9753-a4c2-42c2-a5eb-af13c7344600"
      },
      "outputs": [
        {
          "name": "stderr",
          "output_type": "stream",
          "text": [
            " /content/src/lc-classifier/lc_classifier/features/extractors/gp_drw_extractor.py:52: RuntimeWarning:overflow encountered in exp\n",
            " /usr/local/lib/python3.7/dist-packages/celerite2/numpy.py:108: RuntimeWarning:overflow encountered in square\n",
            " /usr/local/lib/python3.7/dist-packages/celerite2/numpy.py:108: RuntimeWarning:divide by zero encountered in true_divide\n",
            " /usr/local/lib/python3.7/dist-packages/celerite2/core.py:427: RuntimeWarning:invalid value encountered in double_scalars\n",
            " /content/src/lc-classifier/lc_classifier/features/extractors/gp_drw_extractor.py:71: RuntimeWarning:divide by zero encountered in double_scalars\n"
          ]
        }
      ],
      "source": [
        "#Extraemos los vectores\n",
        "features_RRab  = feature_extractor.compute_features(lightcurves_RRab"
      ]
    },
    {
      "cell_type": "code",
      "execution_count": null,
      "metadata": {
        "id": "tNnx201OONYN"
      },
      "outputs": [],
      "source": [
        "#Descargamos un archivo XLSX con los vectores\n",
        "features_RRab_4000_7000.to_excel(\"features_RRab_4000_7000.xlsx\")"
      ]
    }
  ],
  "metadata": {
    "colab": {
      "provenance": []
    },
    "gpuClass": "standard",
    "kernelspec": {
      "display_name": "Python 3",
      "name": "python3"
    },
    "language_info": {
      "name": "python"
    }
  },
  "nbformat": 4,
  "nbformat_minor": 0
}